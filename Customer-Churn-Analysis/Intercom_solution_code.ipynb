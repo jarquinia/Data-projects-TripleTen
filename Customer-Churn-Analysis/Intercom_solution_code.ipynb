{
 "cells": [
  {
   "cell_type": "markdown",
   "metadata": {},
   "source": [
    "# FINAL PROJECT"
   ]
  },
  {
   "cell_type": "markdown",
   "metadata": {},
   "source": [
    "## Importing Libraries"
   ]
  },
  {
   "cell_type": "code",
   "execution_count": 1,
   "metadata": {},
   "outputs": [],
   "source": [
    "import numpy as np\n",
    "import pandas as pd\n",
    "import matplotlib.pyplot as plt\n",
    "import seaborn as sns\n",
    "from sklearn.model_selection import train_test_split\n",
    "from sklearn.linear_model import LogisticRegression\n",
    "from sklearn.ensemble import RandomForestClassifier, GradientBoostingClassifier\n",
    "from sklearn.preprocessing import StandardScaler\n",
    "from sklearn.model_selection import GridSearchCV\n",
    "from sklearn.pipeline import Pipeline\n",
    "from sklearn.compose import ColumnTransformer\n",
    "from sklearn.metrics import make_scorer, roc_auc_score, accuracy_score\n",
    "from sklearn.model_selection import cross_val_score"
   ]
  },
  {
   "cell_type": "markdown",
   "metadata": {},
   "source": [
    "## Loading Data"
   ]
  },
  {
   "cell_type": "markdown",
   "metadata": {
    "jp-MarkdownHeadingCollapsed": true
   },
   "source": [
    "### Contract Data"
   ]
  },
  {
   "cell_type": "code",
   "execution_count": 2,
   "metadata": {},
   "outputs": [
    {
     "data": {
      "text/html": [
       "<div>\n",
       "<style scoped>\n",
       "    .dataframe tbody tr th:only-of-type {\n",
       "        vertical-align: middle;\n",
       "    }\n",
       "\n",
       "    .dataframe tbody tr th {\n",
       "        vertical-align: top;\n",
       "    }\n",
       "\n",
       "    .dataframe thead th {\n",
       "        text-align: right;\n",
       "    }\n",
       "</style>\n",
       "<table border=\"1\" class=\"dataframe\">\n",
       "  <thead>\n",
       "    <tr style=\"text-align: right;\">\n",
       "      <th></th>\n",
       "      <th>customerID</th>\n",
       "      <th>BeginDate</th>\n",
       "      <th>EndDate</th>\n",
       "      <th>Type</th>\n",
       "      <th>PaperlessBilling</th>\n",
       "      <th>PaymentMethod</th>\n",
       "      <th>MonthlyCharges</th>\n",
       "      <th>TotalCharges</th>\n",
       "    </tr>\n",
       "  </thead>\n",
       "  <tbody>\n",
       "    <tr>\n",
       "      <th>0</th>\n",
       "      <td>7590-VHVEG</td>\n",
       "      <td>2020-01-01</td>\n",
       "      <td>No</td>\n",
       "      <td>Month-to-month</td>\n",
       "      <td>Yes</td>\n",
       "      <td>Electronic check</td>\n",
       "      <td>29.85</td>\n",
       "      <td>29.85</td>\n",
       "    </tr>\n",
       "    <tr>\n",
       "      <th>1</th>\n",
       "      <td>5575-GNVDE</td>\n",
       "      <td>2017-04-01</td>\n",
       "      <td>No</td>\n",
       "      <td>One year</td>\n",
       "      <td>No</td>\n",
       "      <td>Mailed check</td>\n",
       "      <td>56.95</td>\n",
       "      <td>1889.5</td>\n",
       "    </tr>\n",
       "    <tr>\n",
       "      <th>2</th>\n",
       "      <td>3668-QPYBK</td>\n",
       "      <td>2019-10-01</td>\n",
       "      <td>2019-12-01 00:00:00</td>\n",
       "      <td>Month-to-month</td>\n",
       "      <td>Yes</td>\n",
       "      <td>Mailed check</td>\n",
       "      <td>53.85</td>\n",
       "      <td>108.15</td>\n",
       "    </tr>\n",
       "    <tr>\n",
       "      <th>3</th>\n",
       "      <td>7795-CFOCW</td>\n",
       "      <td>2016-05-01</td>\n",
       "      <td>No</td>\n",
       "      <td>One year</td>\n",
       "      <td>No</td>\n",
       "      <td>Bank transfer (automatic)</td>\n",
       "      <td>42.30</td>\n",
       "      <td>1840.75</td>\n",
       "    </tr>\n",
       "    <tr>\n",
       "      <th>4</th>\n",
       "      <td>9237-HQITU</td>\n",
       "      <td>2019-09-01</td>\n",
       "      <td>2019-11-01 00:00:00</td>\n",
       "      <td>Month-to-month</td>\n",
       "      <td>Yes</td>\n",
       "      <td>Electronic check</td>\n",
       "      <td>70.70</td>\n",
       "      <td>151.65</td>\n",
       "    </tr>\n",
       "  </tbody>\n",
       "</table>\n",
       "</div>"
      ],
      "text/plain": [
       "   customerID   BeginDate              EndDate            Type  \\\n",
       "0  7590-VHVEG  2020-01-01                   No  Month-to-month   \n",
       "1  5575-GNVDE  2017-04-01                   No        One year   \n",
       "2  3668-QPYBK  2019-10-01  2019-12-01 00:00:00  Month-to-month   \n",
       "3  7795-CFOCW  2016-05-01                   No        One year   \n",
       "4  9237-HQITU  2019-09-01  2019-11-01 00:00:00  Month-to-month   \n",
       "\n",
       "  PaperlessBilling              PaymentMethod  MonthlyCharges TotalCharges  \n",
       "0              Yes           Electronic check           29.85        29.85  \n",
       "1               No               Mailed check           56.95       1889.5  \n",
       "2              Yes               Mailed check           53.85       108.15  \n",
       "3               No  Bank transfer (automatic)           42.30      1840.75  \n",
       "4              Yes           Electronic check           70.70       151.65  "
      ]
     },
     "execution_count": 2,
     "metadata": {},
     "output_type": "execute_result"
    }
   ],
   "source": [
    "contract_df = pd.read_csv('/datasets/final_provider/contract.csv')\n",
    "contract_df.head() #contract information"
   ]
  },
  {
   "cell_type": "code",
   "execution_count": 3,
   "metadata": {
    "scrolled": true
   },
   "outputs": [
    {
     "name": "stdout",
     "output_type": "stream",
     "text": [
      "<class 'pandas.core.frame.DataFrame'>\n",
      "RangeIndex: 7043 entries, 0 to 7042\n",
      "Data columns (total 8 columns):\n",
      " #   Column            Non-Null Count  Dtype  \n",
      "---  ------            --------------  -----  \n",
      " 0   customerID        7043 non-null   object \n",
      " 1   BeginDate         7043 non-null   object \n",
      " 2   EndDate           7043 non-null   object \n",
      " 3   Type              7043 non-null   object \n",
      " 4   PaperlessBilling  7043 non-null   object \n",
      " 5   PaymentMethod     7043 non-null   object \n",
      " 6   MonthlyCharges    7043 non-null   float64\n",
      " 7   TotalCharges      7043 non-null   object \n",
      "dtypes: float64(1), object(7)\n",
      "memory usage: 440.3+ KB\n"
     ]
    }
   ],
   "source": [
    "contract_df.info()"
   ]
  },
  {
   "cell_type": "markdown",
   "metadata": {
    "jp-MarkdownHeadingCollapsed": true
   },
   "source": [
    "### Clients' Personal Data"
   ]
  },
  {
   "cell_type": "code",
   "execution_count": 4,
   "metadata": {},
   "outputs": [
    {
     "data": {
      "text/html": [
       "<div>\n",
       "<style scoped>\n",
       "    .dataframe tbody tr th:only-of-type {\n",
       "        vertical-align: middle;\n",
       "    }\n",
       "\n",
       "    .dataframe tbody tr th {\n",
       "        vertical-align: top;\n",
       "    }\n",
       "\n",
       "    .dataframe thead th {\n",
       "        text-align: right;\n",
       "    }\n",
       "</style>\n",
       "<table border=\"1\" class=\"dataframe\">\n",
       "  <thead>\n",
       "    <tr style=\"text-align: right;\">\n",
       "      <th></th>\n",
       "      <th>customerID</th>\n",
       "      <th>gender</th>\n",
       "      <th>SeniorCitizen</th>\n",
       "      <th>Partner</th>\n",
       "      <th>Dependents</th>\n",
       "    </tr>\n",
       "  </thead>\n",
       "  <tbody>\n",
       "    <tr>\n",
       "      <th>0</th>\n",
       "      <td>7590-VHVEG</td>\n",
       "      <td>Female</td>\n",
       "      <td>0</td>\n",
       "      <td>Yes</td>\n",
       "      <td>No</td>\n",
       "    </tr>\n",
       "    <tr>\n",
       "      <th>1</th>\n",
       "      <td>5575-GNVDE</td>\n",
       "      <td>Male</td>\n",
       "      <td>0</td>\n",
       "      <td>No</td>\n",
       "      <td>No</td>\n",
       "    </tr>\n",
       "    <tr>\n",
       "      <th>2</th>\n",
       "      <td>3668-QPYBK</td>\n",
       "      <td>Male</td>\n",
       "      <td>0</td>\n",
       "      <td>No</td>\n",
       "      <td>No</td>\n",
       "    </tr>\n",
       "    <tr>\n",
       "      <th>3</th>\n",
       "      <td>7795-CFOCW</td>\n",
       "      <td>Male</td>\n",
       "      <td>0</td>\n",
       "      <td>No</td>\n",
       "      <td>No</td>\n",
       "    </tr>\n",
       "    <tr>\n",
       "      <th>4</th>\n",
       "      <td>9237-HQITU</td>\n",
       "      <td>Female</td>\n",
       "      <td>0</td>\n",
       "      <td>No</td>\n",
       "      <td>No</td>\n",
       "    </tr>\n",
       "  </tbody>\n",
       "</table>\n",
       "</div>"
      ],
      "text/plain": [
       "   customerID  gender  SeniorCitizen Partner Dependents\n",
       "0  7590-VHVEG  Female              0     Yes         No\n",
       "1  5575-GNVDE    Male              0      No         No\n",
       "2  3668-QPYBK    Male              0      No         No\n",
       "3  7795-CFOCW    Male              0      No         No\n",
       "4  9237-HQITU  Female              0      No         No"
      ]
     },
     "execution_count": 4,
     "metadata": {},
     "output_type": "execute_result"
    }
   ],
   "source": [
    "personal_df = pd.read_csv('/datasets/final_provider/personal.csv')\n",
    "personal_df.head() #clients' personal data"
   ]
  },
  {
   "cell_type": "code",
   "execution_count": 5,
   "metadata": {
    "scrolled": true
   },
   "outputs": [
    {
     "name": "stdout",
     "output_type": "stream",
     "text": [
      "<class 'pandas.core.frame.DataFrame'>\n",
      "RangeIndex: 7043 entries, 0 to 7042\n",
      "Data columns (total 5 columns):\n",
      " #   Column         Non-Null Count  Dtype \n",
      "---  ------         --------------  ----- \n",
      " 0   customerID     7043 non-null   object\n",
      " 1   gender         7043 non-null   object\n",
      " 2   SeniorCitizen  7043 non-null   int64 \n",
      " 3   Partner        7043 non-null   object\n",
      " 4   Dependents     7043 non-null   object\n",
      "dtypes: int64(1), object(4)\n",
      "memory usage: 275.2+ KB\n"
     ]
    }
   ],
   "source": [
    "personal_df.info()"
   ]
  },
  {
   "cell_type": "markdown",
   "metadata": {},
   "source": [
    "### Internet Data"
   ]
  },
  {
   "cell_type": "code",
   "execution_count": 6,
   "metadata": {},
   "outputs": [
    {
     "data": {
      "text/html": [
       "<div>\n",
       "<style scoped>\n",
       "    .dataframe tbody tr th:only-of-type {\n",
       "        vertical-align: middle;\n",
       "    }\n",
       "\n",
       "    .dataframe tbody tr th {\n",
       "        vertical-align: top;\n",
       "    }\n",
       "\n",
       "    .dataframe thead th {\n",
       "        text-align: right;\n",
       "    }\n",
       "</style>\n",
       "<table border=\"1\" class=\"dataframe\">\n",
       "  <thead>\n",
       "    <tr style=\"text-align: right;\">\n",
       "      <th></th>\n",
       "      <th>customerID</th>\n",
       "      <th>InternetService</th>\n",
       "      <th>OnlineSecurity</th>\n",
       "      <th>OnlineBackup</th>\n",
       "      <th>DeviceProtection</th>\n",
       "      <th>TechSupport</th>\n",
       "      <th>StreamingTV</th>\n",
       "      <th>StreamingMovies</th>\n",
       "    </tr>\n",
       "  </thead>\n",
       "  <tbody>\n",
       "    <tr>\n",
       "      <th>0</th>\n",
       "      <td>7590-VHVEG</td>\n",
       "      <td>DSL</td>\n",
       "      <td>No</td>\n",
       "      <td>Yes</td>\n",
       "      <td>No</td>\n",
       "      <td>No</td>\n",
       "      <td>No</td>\n",
       "      <td>No</td>\n",
       "    </tr>\n",
       "    <tr>\n",
       "      <th>1</th>\n",
       "      <td>5575-GNVDE</td>\n",
       "      <td>DSL</td>\n",
       "      <td>Yes</td>\n",
       "      <td>No</td>\n",
       "      <td>Yes</td>\n",
       "      <td>No</td>\n",
       "      <td>No</td>\n",
       "      <td>No</td>\n",
       "    </tr>\n",
       "    <tr>\n",
       "      <th>2</th>\n",
       "      <td>3668-QPYBK</td>\n",
       "      <td>DSL</td>\n",
       "      <td>Yes</td>\n",
       "      <td>Yes</td>\n",
       "      <td>No</td>\n",
       "      <td>No</td>\n",
       "      <td>No</td>\n",
       "      <td>No</td>\n",
       "    </tr>\n",
       "    <tr>\n",
       "      <th>3</th>\n",
       "      <td>7795-CFOCW</td>\n",
       "      <td>DSL</td>\n",
       "      <td>Yes</td>\n",
       "      <td>No</td>\n",
       "      <td>Yes</td>\n",
       "      <td>Yes</td>\n",
       "      <td>No</td>\n",
       "      <td>No</td>\n",
       "    </tr>\n",
       "    <tr>\n",
       "      <th>4</th>\n",
       "      <td>9237-HQITU</td>\n",
       "      <td>Fiber optic</td>\n",
       "      <td>No</td>\n",
       "      <td>No</td>\n",
       "      <td>No</td>\n",
       "      <td>No</td>\n",
       "      <td>No</td>\n",
       "      <td>No</td>\n",
       "    </tr>\n",
       "  </tbody>\n",
       "</table>\n",
       "</div>"
      ],
      "text/plain": [
       "   customerID InternetService OnlineSecurity OnlineBackup DeviceProtection  \\\n",
       "0  7590-VHVEG             DSL             No          Yes               No   \n",
       "1  5575-GNVDE             DSL            Yes           No              Yes   \n",
       "2  3668-QPYBK             DSL            Yes          Yes               No   \n",
       "3  7795-CFOCW             DSL            Yes           No              Yes   \n",
       "4  9237-HQITU     Fiber optic             No           No               No   \n",
       "\n",
       "  TechSupport StreamingTV StreamingMovies  \n",
       "0          No          No              No  \n",
       "1          No          No              No  \n",
       "2          No          No              No  \n",
       "3         Yes          No              No  \n",
       "4          No          No              No  "
      ]
     },
     "execution_count": 6,
     "metadata": {},
     "output_type": "execute_result"
    }
   ],
   "source": [
    "internet_df = pd.read_csv('/datasets/final_provider/internet.csv')\n",
    "internet_df.head() #information about Internet services"
   ]
  },
  {
   "cell_type": "code",
   "execution_count": 7,
   "metadata": {},
   "outputs": [
    {
     "name": "stdout",
     "output_type": "stream",
     "text": [
      "<class 'pandas.core.frame.DataFrame'>\n",
      "RangeIndex: 5517 entries, 0 to 5516\n",
      "Data columns (total 8 columns):\n",
      " #   Column            Non-Null Count  Dtype \n",
      "---  ------            --------------  ----- \n",
      " 0   customerID        5517 non-null   object\n",
      " 1   InternetService   5517 non-null   object\n",
      " 2   OnlineSecurity    5517 non-null   object\n",
      " 3   OnlineBackup      5517 non-null   object\n",
      " 4   DeviceProtection  5517 non-null   object\n",
      " 5   TechSupport       5517 non-null   object\n",
      " 6   StreamingTV       5517 non-null   object\n",
      " 7   StreamingMovies   5517 non-null   object\n",
      "dtypes: object(8)\n",
      "memory usage: 344.9+ KB\n"
     ]
    }
   ],
   "source": [
    "internet_df.info()"
   ]
  },
  {
   "cell_type": "markdown",
   "metadata": {
    "jp-MarkdownHeadingCollapsed": true
   },
   "source": [
    "### Phone Data"
   ]
  },
  {
   "cell_type": "code",
   "execution_count": 8,
   "metadata": {},
   "outputs": [
    {
     "data": {
      "text/html": [
       "<div>\n",
       "<style scoped>\n",
       "    .dataframe tbody tr th:only-of-type {\n",
       "        vertical-align: middle;\n",
       "    }\n",
       "\n",
       "    .dataframe tbody tr th {\n",
       "        vertical-align: top;\n",
       "    }\n",
       "\n",
       "    .dataframe thead th {\n",
       "        text-align: right;\n",
       "    }\n",
       "</style>\n",
       "<table border=\"1\" class=\"dataframe\">\n",
       "  <thead>\n",
       "    <tr style=\"text-align: right;\">\n",
       "      <th></th>\n",
       "      <th>customerID</th>\n",
       "      <th>MultipleLines</th>\n",
       "    </tr>\n",
       "  </thead>\n",
       "  <tbody>\n",
       "    <tr>\n",
       "      <th>0</th>\n",
       "      <td>5575-GNVDE</td>\n",
       "      <td>No</td>\n",
       "    </tr>\n",
       "    <tr>\n",
       "      <th>1</th>\n",
       "      <td>3668-QPYBK</td>\n",
       "      <td>No</td>\n",
       "    </tr>\n",
       "    <tr>\n",
       "      <th>2</th>\n",
       "      <td>9237-HQITU</td>\n",
       "      <td>No</td>\n",
       "    </tr>\n",
       "    <tr>\n",
       "      <th>3</th>\n",
       "      <td>9305-CDSKC</td>\n",
       "      <td>Yes</td>\n",
       "    </tr>\n",
       "    <tr>\n",
       "      <th>4</th>\n",
       "      <td>1452-KIOVK</td>\n",
       "      <td>Yes</td>\n",
       "    </tr>\n",
       "  </tbody>\n",
       "</table>\n",
       "</div>"
      ],
      "text/plain": [
       "   customerID MultipleLines\n",
       "0  5575-GNVDE            No\n",
       "1  3668-QPYBK            No\n",
       "2  9237-HQITU            No\n",
       "3  9305-CDSKC           Yes\n",
       "4  1452-KIOVK           Yes"
      ]
     },
     "execution_count": 8,
     "metadata": {},
     "output_type": "execute_result"
    }
   ],
   "source": [
    "phone_df = pd.read_csv('/datasets/final_provider/phone.csv')\n",
    "phone_df.head() #information about telephone services"
   ]
  },
  {
   "cell_type": "code",
   "execution_count": 9,
   "metadata": {},
   "outputs": [
    {
     "name": "stdout",
     "output_type": "stream",
     "text": [
      "<class 'pandas.core.frame.DataFrame'>\n",
      "RangeIndex: 6361 entries, 0 to 6360\n",
      "Data columns (total 2 columns):\n",
      " #   Column         Non-Null Count  Dtype \n",
      "---  ------         --------------  ----- \n",
      " 0   customerID     6361 non-null   object\n",
      " 1   MultipleLines  6361 non-null   object\n",
      "dtypes: object(2)\n",
      "memory usage: 99.5+ KB\n"
     ]
    }
   ],
   "source": [
    "phone_df.info()"
   ]
  },
  {
   "cell_type": "markdown",
   "metadata": {},
   "source": [
    "## Preprocessing"
   ]
  },
  {
   "cell_type": "markdown",
   "metadata": {},
   "source": [
    "### Merging Data Sets"
   ]
  },
  {
   "cell_type": "code",
   "execution_count": 10,
   "metadata": {},
   "outputs": [],
   "source": [
    "df = personal_df.merge(contract_df, on='customerID', how='inner')"
   ]
  },
  {
   "cell_type": "code",
   "execution_count": 11,
   "metadata": {},
   "outputs": [],
   "source": [
    "df = df.merge(internet_df, on='customerID', how= 'inner')"
   ]
  },
  {
   "cell_type": "code",
   "execution_count": 12,
   "metadata": {
    "scrolled": true
   },
   "outputs": [
    {
     "name": "stdout",
     "output_type": "stream",
     "text": [
      "(4835, 20)\n",
      "   customerID  gender  SeniorCitizen Partner Dependents   BeginDate  \\\n",
      "0  5575-GNVDE    Male              0      No         No  2017-04-01   \n",
      "1  3668-QPYBK    Male              0      No         No  2019-10-01   \n",
      "2  9237-HQITU  Female              0      No         No  2019-09-01   \n",
      "3  9305-CDSKC  Female              0      No         No  2019-03-01   \n",
      "4  1452-KIOVK    Male              0      No        Yes  2018-04-01   \n",
      "\n",
      "               EndDate            Type PaperlessBilling  \\\n",
      "0                   No        One year               No   \n",
      "1  2019-12-01 00:00:00  Month-to-month              Yes   \n",
      "2  2019-11-01 00:00:00  Month-to-month              Yes   \n",
      "3  2019-11-01 00:00:00  Month-to-month              Yes   \n",
      "4                   No  Month-to-month              Yes   \n",
      "\n",
      "             PaymentMethod  MonthlyCharges TotalCharges InternetService  \\\n",
      "0             Mailed check           56.95       1889.5             DSL   \n",
      "1             Mailed check           53.85       108.15             DSL   \n",
      "2         Electronic check           70.70       151.65     Fiber optic   \n",
      "3         Electronic check           99.65        820.5     Fiber optic   \n",
      "4  Credit card (automatic)           89.10       1949.4     Fiber optic   \n",
      "\n",
      "  OnlineSecurity OnlineBackup DeviceProtection TechSupport StreamingTV  \\\n",
      "0            Yes           No              Yes          No          No   \n",
      "1            Yes          Yes               No          No          No   \n",
      "2             No           No               No          No          No   \n",
      "3             No           No              Yes          No         Yes   \n",
      "4             No          Yes               No          No         Yes   \n",
      "\n",
      "  StreamingMovies MultipleLines  \n",
      "0              No            No  \n",
      "1              No            No  \n",
      "2              No            No  \n",
      "3             Yes           Yes  \n",
      "4              No           Yes  \n"
     ]
    }
   ],
   "source": [
    "df = df.merge(phone_df, on= 'customerID', how='inner')\n",
    "print(df.shape)\n",
    "print(df.head())"
   ]
  },
  {
   "cell_type": "markdown",
   "metadata": {},
   "source": [
    "### Renaming Columns"
   ]
  },
  {
   "cell_type": "code",
   "execution_count": 13,
   "metadata": {},
   "outputs": [],
   "source": [
    "df = df.rename(columns={\n",
    "    'customerID': 'customer_id',\n",
    "    'SeniorCitizen': 'senior',\n",
    "    'Partner': 'partner',\n",
    "    'Dependents': 'dependents',\n",
    "    'BeginDate': 'start_date',\n",
    "    'EndDate': 'end_date',\n",
    "    'Type': 'contract_type',    \n",
    "    'PaperlessBilling': 'paperless',\n",
    "    'PaymentMethod': 'payment_method',\n",
    "    'MonthlyCharges' : 'monthly_charges',\n",
    "    'TotalCharges': 'total_charges',\n",
    "    'InternetService': 'internet_service',\n",
    "    'OnlineSecurity': 'online_security',\n",
    "    'OnlineBackup': 'online_backup',\n",
    "    'DeviceProtection': 'device_protection',\n",
    "    'TechSupport': 'tech_support',\n",
    "    'StreamingTV': 'streaming_tv',\n",
    "    'StreamingMovies': 'streaming_movies',\n",
    "    'MultipleLines': 'multiple_lines'    \n",
    "})"
   ]
  },
  {
   "cell_type": "code",
   "execution_count": 14,
   "metadata": {
    "scrolled": true
   },
   "outputs": [
    {
     "name": "stdout",
     "output_type": "stream",
     "text": [
      "<class 'pandas.core.frame.DataFrame'>\n",
      "Int64Index: 4835 entries, 0 to 4834\n",
      "Data columns (total 20 columns):\n",
      " #   Column             Non-Null Count  Dtype  \n",
      "---  ------             --------------  -----  \n",
      " 0   customer_id        4835 non-null   object \n",
      " 1   gender             4835 non-null   object \n",
      " 2   senior             4835 non-null   int64  \n",
      " 3   partner            4835 non-null   object \n",
      " 4   dependents         4835 non-null   object \n",
      " 5   start_date         4835 non-null   object \n",
      " 6   end_date           4835 non-null   object \n",
      " 7   contract_type      4835 non-null   object \n",
      " 8   paperless          4835 non-null   object \n",
      " 9   payment_method     4835 non-null   object \n",
      " 10  monthly_charges    4835 non-null   float64\n",
      " 11  total_charges      4835 non-null   object \n",
      " 12  internet_service   4835 non-null   object \n",
      " 13  online_security    4835 non-null   object \n",
      " 14  online_backup      4835 non-null   object \n",
      " 15  device_protection  4835 non-null   object \n",
      " 16  tech_support       4835 non-null   object \n",
      " 17  streaming_tv       4835 non-null   object \n",
      " 18  streaming_movies   4835 non-null   object \n",
      " 19  multiple_lines     4835 non-null   object \n",
      "dtypes: float64(1), int64(1), object(18)\n",
      "memory usage: 793.2+ KB\n"
     ]
    }
   ],
   "source": [
    "df.info()"
   ]
  },
  {
   "cell_type": "markdown",
   "metadata": {
    "jp-MarkdownHeadingCollapsed": true
   },
   "source": [
    "### Duplicate Values"
   ]
  },
  {
   "cell_type": "code",
   "execution_count": 15,
   "metadata": {
    "scrolled": true
   },
   "outputs": [
    {
     "name": "stdout",
     "output_type": "stream",
     "text": [
      "Number of duplicate rows: 0\n"
     ]
    }
   ],
   "source": [
    "num_duplicates = df.duplicated().sum()\n",
    "print(f\"Number of duplicate rows: {num_duplicates}\")"
   ]
  },
  {
   "cell_type": "markdown",
   "metadata": {},
   "source": [
    "### Missing Values"
   ]
  },
  {
   "cell_type": "code",
   "execution_count": 16,
   "metadata": {
    "scrolled": true
   },
   "outputs": [
    {
     "name": "stdout",
     "output_type": "stream",
     "text": [
      "customer_id          0\n",
      "gender               0\n",
      "senior               0\n",
      "partner              0\n",
      "dependents           0\n",
      "start_date           0\n",
      "end_date             0\n",
      "contract_type        0\n",
      "paperless            0\n",
      "payment_method       0\n",
      "monthly_charges      0\n",
      "total_charges        0\n",
      "internet_service     0\n",
      "online_security      0\n",
      "online_backup        0\n",
      "device_protection    0\n",
      "tech_support         0\n",
      "streaming_tv         0\n",
      "streaming_movies     0\n",
      "multiple_lines       0\n",
      "dtype: int64\n"
     ]
    }
   ],
   "source": [
    "missing_counts = df.isnull().sum()\n",
    "print(missing_counts)"
   ]
  },
  {
   "cell_type": "code",
   "execution_count": 17,
   "metadata": {},
   "outputs": [],
   "source": [
    "df['end_date'] = df['end_date'].replace('No', pd.NA)"
   ]
  },
  {
   "cell_type": "markdown",
   "metadata": {},
   "source": [
    "### New Target Column"
   ]
  },
  {
   "cell_type": "code",
   "execution_count": 18,
   "metadata": {
    "scrolled": true
   },
   "outputs": [
    {
     "data": {
      "text/html": [
       "<div>\n",
       "<style scoped>\n",
       "    .dataframe tbody tr th:only-of-type {\n",
       "        vertical-align: middle;\n",
       "    }\n",
       "\n",
       "    .dataframe tbody tr th {\n",
       "        vertical-align: top;\n",
       "    }\n",
       "\n",
       "    .dataframe thead th {\n",
       "        text-align: right;\n",
       "    }\n",
       "</style>\n",
       "<table border=\"1\" class=\"dataframe\">\n",
       "  <thead>\n",
       "    <tr style=\"text-align: right;\">\n",
       "      <th></th>\n",
       "      <th>end_date</th>\n",
       "      <th>churned</th>\n",
       "    </tr>\n",
       "  </thead>\n",
       "  <tbody>\n",
       "    <tr>\n",
       "      <th>0</th>\n",
       "      <td>&lt;NA&gt;</td>\n",
       "      <td>0</td>\n",
       "    </tr>\n",
       "    <tr>\n",
       "      <th>1</th>\n",
       "      <td>2019-12-01 00:00:00</td>\n",
       "      <td>1</td>\n",
       "    </tr>\n",
       "    <tr>\n",
       "      <th>2</th>\n",
       "      <td>2019-11-01 00:00:00</td>\n",
       "      <td>1</td>\n",
       "    </tr>\n",
       "    <tr>\n",
       "      <th>3</th>\n",
       "      <td>2019-11-01 00:00:00</td>\n",
       "      <td>1</td>\n",
       "    </tr>\n",
       "    <tr>\n",
       "      <th>4</th>\n",
       "      <td>&lt;NA&gt;</td>\n",
       "      <td>0</td>\n",
       "    </tr>\n",
       "  </tbody>\n",
       "</table>\n",
       "</div>"
      ],
      "text/plain": [
       "              end_date  churned\n",
       "0                 <NA>        0\n",
       "1  2019-12-01 00:00:00        1\n",
       "2  2019-11-01 00:00:00        1\n",
       "3  2019-11-01 00:00:00        1\n",
       "4                 <NA>        0"
      ]
     },
     "execution_count": 18,
     "metadata": {},
     "output_type": "execute_result"
    }
   ],
   "source": [
    "df['churned']= df['end_date'].notnull().astype(int)\n",
    "df[['end_date','churned']].head()"
   ]
  },
  {
   "cell_type": "markdown",
   "metadata": {},
   "source": [
    "### Editing Values Format"
   ]
  },
  {
   "cell_type": "code",
   "execution_count": 19,
   "metadata": {},
   "outputs": [],
   "source": [
    "df['total_charges']=pd.to_numeric(df['total_charges'], errors='coerce')"
   ]
  },
  {
   "cell_type": "code",
   "execution_count": 20,
   "metadata": {},
   "outputs": [
    {
     "name": "stdout",
     "output_type": "stream",
     "text": [
      "3\n"
     ]
    }
   ],
   "source": [
    "print(df['total_charges'].isnull().sum())"
   ]
  },
  {
   "cell_type": "code",
   "execution_count": 21,
   "metadata": {},
   "outputs": [],
   "source": [
    "df['total_charges'] = df['total_charges'].isnull()"
   ]
  },
  {
   "cell_type": "code",
   "execution_count": 22,
   "metadata": {},
   "outputs": [],
   "source": [
    "df['start_date'] = pd.to_datetime(df['start_date'], errors='coerce')\n",
    "df['end_date'] = pd.to_datetime(df['end_date'], errors='coerce')  "
   ]
  },
  {
   "cell_type": "code",
   "execution_count": 23,
   "metadata": {},
   "outputs": [
    {
     "data": {
      "text/html": [
       "<div>\n",
       "<style scoped>\n",
       "    .dataframe tbody tr th:only-of-type {\n",
       "        vertical-align: middle;\n",
       "    }\n",
       "\n",
       "    .dataframe tbody tr th {\n",
       "        vertical-align: top;\n",
       "    }\n",
       "\n",
       "    .dataframe thead th {\n",
       "        text-align: right;\n",
       "    }\n",
       "</style>\n",
       "<table border=\"1\" class=\"dataframe\">\n",
       "  <thead>\n",
       "    <tr style=\"text-align: right;\">\n",
       "      <th></th>\n",
       "      <th>customer_id</th>\n",
       "      <th>gender</th>\n",
       "      <th>senior</th>\n",
       "      <th>partner</th>\n",
       "      <th>dependents</th>\n",
       "      <th>start_date</th>\n",
       "      <th>end_date</th>\n",
       "      <th>contract_type</th>\n",
       "      <th>paperless</th>\n",
       "      <th>payment_method</th>\n",
       "      <th>...</th>\n",
       "      <th>total_charges</th>\n",
       "      <th>internet_service</th>\n",
       "      <th>online_security</th>\n",
       "      <th>online_backup</th>\n",
       "      <th>device_protection</th>\n",
       "      <th>tech_support</th>\n",
       "      <th>streaming_tv</th>\n",
       "      <th>streaming_movies</th>\n",
       "      <th>multiple_lines</th>\n",
       "      <th>churned</th>\n",
       "    </tr>\n",
       "  </thead>\n",
       "  <tbody>\n",
       "    <tr>\n",
       "      <th>0</th>\n",
       "      <td>5575-GNVDE</td>\n",
       "      <td>Male</td>\n",
       "      <td>0</td>\n",
       "      <td>No</td>\n",
       "      <td>No</td>\n",
       "      <td>2017-04-01</td>\n",
       "      <td>NaT</td>\n",
       "      <td>One year</td>\n",
       "      <td>No</td>\n",
       "      <td>Mailed check</td>\n",
       "      <td>...</td>\n",
       "      <td>False</td>\n",
       "      <td>DSL</td>\n",
       "      <td>Yes</td>\n",
       "      <td>No</td>\n",
       "      <td>Yes</td>\n",
       "      <td>No</td>\n",
       "      <td>No</td>\n",
       "      <td>No</td>\n",
       "      <td>No</td>\n",
       "      <td>0</td>\n",
       "    </tr>\n",
       "    <tr>\n",
       "      <th>1</th>\n",
       "      <td>3668-QPYBK</td>\n",
       "      <td>Male</td>\n",
       "      <td>0</td>\n",
       "      <td>No</td>\n",
       "      <td>No</td>\n",
       "      <td>2019-10-01</td>\n",
       "      <td>2019-12-01</td>\n",
       "      <td>Month-to-month</td>\n",
       "      <td>Yes</td>\n",
       "      <td>Mailed check</td>\n",
       "      <td>...</td>\n",
       "      <td>False</td>\n",
       "      <td>DSL</td>\n",
       "      <td>Yes</td>\n",
       "      <td>Yes</td>\n",
       "      <td>No</td>\n",
       "      <td>No</td>\n",
       "      <td>No</td>\n",
       "      <td>No</td>\n",
       "      <td>No</td>\n",
       "      <td>1</td>\n",
       "    </tr>\n",
       "    <tr>\n",
       "      <th>2</th>\n",
       "      <td>9237-HQITU</td>\n",
       "      <td>Female</td>\n",
       "      <td>0</td>\n",
       "      <td>No</td>\n",
       "      <td>No</td>\n",
       "      <td>2019-09-01</td>\n",
       "      <td>2019-11-01</td>\n",
       "      <td>Month-to-month</td>\n",
       "      <td>Yes</td>\n",
       "      <td>Electronic check</td>\n",
       "      <td>...</td>\n",
       "      <td>False</td>\n",
       "      <td>Fiber optic</td>\n",
       "      <td>No</td>\n",
       "      <td>No</td>\n",
       "      <td>No</td>\n",
       "      <td>No</td>\n",
       "      <td>No</td>\n",
       "      <td>No</td>\n",
       "      <td>No</td>\n",
       "      <td>1</td>\n",
       "    </tr>\n",
       "    <tr>\n",
       "      <th>3</th>\n",
       "      <td>9305-CDSKC</td>\n",
       "      <td>Female</td>\n",
       "      <td>0</td>\n",
       "      <td>No</td>\n",
       "      <td>No</td>\n",
       "      <td>2019-03-01</td>\n",
       "      <td>2019-11-01</td>\n",
       "      <td>Month-to-month</td>\n",
       "      <td>Yes</td>\n",
       "      <td>Electronic check</td>\n",
       "      <td>...</td>\n",
       "      <td>False</td>\n",
       "      <td>Fiber optic</td>\n",
       "      <td>No</td>\n",
       "      <td>No</td>\n",
       "      <td>Yes</td>\n",
       "      <td>No</td>\n",
       "      <td>Yes</td>\n",
       "      <td>Yes</td>\n",
       "      <td>Yes</td>\n",
       "      <td>1</td>\n",
       "    </tr>\n",
       "    <tr>\n",
       "      <th>4</th>\n",
       "      <td>1452-KIOVK</td>\n",
       "      <td>Male</td>\n",
       "      <td>0</td>\n",
       "      <td>No</td>\n",
       "      <td>Yes</td>\n",
       "      <td>2018-04-01</td>\n",
       "      <td>NaT</td>\n",
       "      <td>Month-to-month</td>\n",
       "      <td>Yes</td>\n",
       "      <td>Credit card (automatic)</td>\n",
       "      <td>...</td>\n",
       "      <td>False</td>\n",
       "      <td>Fiber optic</td>\n",
       "      <td>No</td>\n",
       "      <td>Yes</td>\n",
       "      <td>No</td>\n",
       "      <td>No</td>\n",
       "      <td>Yes</td>\n",
       "      <td>No</td>\n",
       "      <td>Yes</td>\n",
       "      <td>0</td>\n",
       "    </tr>\n",
       "  </tbody>\n",
       "</table>\n",
       "<p>5 rows × 21 columns</p>\n",
       "</div>"
      ],
      "text/plain": [
       "  customer_id  gender  senior partner dependents start_date   end_date  \\\n",
       "0  5575-GNVDE    Male       0      No         No 2017-04-01        NaT   \n",
       "1  3668-QPYBK    Male       0      No         No 2019-10-01 2019-12-01   \n",
       "2  9237-HQITU  Female       0      No         No 2019-09-01 2019-11-01   \n",
       "3  9305-CDSKC  Female       0      No         No 2019-03-01 2019-11-01   \n",
       "4  1452-KIOVK    Male       0      No        Yes 2018-04-01        NaT   \n",
       "\n",
       "    contract_type paperless           payment_method  ...  total_charges  \\\n",
       "0        One year        No             Mailed check  ...          False   \n",
       "1  Month-to-month       Yes             Mailed check  ...          False   \n",
       "2  Month-to-month       Yes         Electronic check  ...          False   \n",
       "3  Month-to-month       Yes         Electronic check  ...          False   \n",
       "4  Month-to-month       Yes  Credit card (automatic)  ...          False   \n",
       "\n",
       "   internet_service online_security online_backup device_protection  \\\n",
       "0               DSL             Yes            No               Yes   \n",
       "1               DSL             Yes           Yes                No   \n",
       "2       Fiber optic              No            No                No   \n",
       "3       Fiber optic              No            No               Yes   \n",
       "4       Fiber optic              No           Yes                No   \n",
       "\n",
       "  tech_support streaming_tv streaming_movies multiple_lines churned  \n",
       "0           No           No               No             No       0  \n",
       "1           No           No               No             No       1  \n",
       "2           No           No               No             No       1  \n",
       "3           No          Yes              Yes            Yes       1  \n",
       "4           No          Yes               No            Yes       0  \n",
       "\n",
       "[5 rows x 21 columns]"
      ]
     },
     "execution_count": 23,
     "metadata": {},
     "output_type": "execute_result"
    }
   ],
   "source": [
    "df.head()"
   ]
  },
  {
   "cell_type": "markdown",
   "metadata": {},
   "source": [
    "## Feauture Engineering"
   ]
  },
  {
   "cell_type": "markdown",
   "metadata": {},
   "source": [
    "### Normalizing Binary Features"
   ]
  },
  {
   "cell_type": "code",
   "execution_count": 24,
   "metadata": {},
   "outputs": [
    {
     "data": {
      "text/plain": [
       "array(['Male', 'Female'], dtype=object)"
      ]
     },
     "execution_count": 24,
     "metadata": {},
     "output_type": "execute_result"
    }
   ],
   "source": [
    "df['gender'].unique()"
   ]
  },
  {
   "cell_type": "code",
   "execution_count": 25,
   "metadata": {
    "scrolled": true
   },
   "outputs": [],
   "source": [
    "df['fiber_optic'] = (df['internet_service']== 'Fiber optic').astype(int)"
   ]
  },
  {
   "cell_type": "code",
   "execution_count": 26,
   "metadata": {},
   "outputs": [],
   "source": [
    "df.drop(columns=['internet_service'], inplace=True)"
   ]
  },
  {
   "cell_type": "code",
   "execution_count": 27,
   "metadata": {
    "scrolled": true
   },
   "outputs": [],
   "source": [
    "binary_columns = ['gender','partner','dependents', 'paperless','online_security', 'online_backup', 'device_protection', 'tech_support', 'streaming_tv', 'streaming_movies','multiple_lines', 'fiber_optic']\n",
    "df[binary_columns] = df[binary_columns].replace({'Yes': 1, 'No': 0, 'Female': 0, 'Male': 1})"
   ]
  },
  {
   "cell_type": "markdown",
   "metadata": {},
   "source": [
    "### One-Hot Econding Categorical Features"
   ]
  },
  {
   "cell_type": "code",
   "execution_count": 28,
   "metadata": {},
   "outputs": [
    {
     "data": {
      "text/plain": [
       "array(['One year', 'Month-to-month', 'Two year'], dtype=object)"
      ]
     },
     "execution_count": 28,
     "metadata": {},
     "output_type": "execute_result"
    }
   ],
   "source": [
    "df['contract_type'].unique()"
   ]
  },
  {
   "cell_type": "code",
   "execution_count": 29,
   "metadata": {
    "scrolled": true
   },
   "outputs": [
    {
     "data": {
      "text/plain": [
       "array(['Mailed check', 'Electronic check', 'Credit card (automatic)',\n",
       "       'Bank transfer (automatic)'], dtype=object)"
      ]
     },
     "execution_count": 29,
     "metadata": {},
     "output_type": "execute_result"
    }
   ],
   "source": [
    "df['payment_method'].unique()"
   ]
  },
  {
   "cell_type": "code",
   "execution_count": 30,
   "metadata": {},
   "outputs": [],
   "source": [
    "df['payment_method'] = df['payment_method'].replace({\n",
    "    'Credit card (automatic)': 'automatic',\n",
    "    'Bank transfer (automatic)' : 'automatic'})"
   ]
  },
  {
   "cell_type": "code",
   "execution_count": 31,
   "metadata": {},
   "outputs": [],
   "source": [
    "df = pd.get_dummies(df, columns=['contract_type','payment_method'], drop_first=True)"
   ]
  },
  {
   "cell_type": "code",
   "execution_count": 32,
   "metadata": {
    "scrolled": true
   },
   "outputs": [
    {
     "name": "stdout",
     "output_type": "stream",
     "text": [
      "<class 'pandas.core.frame.DataFrame'>\n",
      "Int64Index: 4835 entries, 0 to 4834\n",
      "Data columns (total 23 columns):\n",
      " #   Column                       Non-Null Count  Dtype         \n",
      "---  ------                       --------------  -----         \n",
      " 0   customer_id                  4835 non-null   object        \n",
      " 1   gender                       4835 non-null   int64         \n",
      " 2   senior                       4835 non-null   int64         \n",
      " 3   partner                      4835 non-null   int64         \n",
      " 4   dependents                   4835 non-null   int64         \n",
      " 5   start_date                   4835 non-null   datetime64[ns]\n",
      " 6   end_date                     1586 non-null   datetime64[ns]\n",
      " 7   paperless                    4835 non-null   int64         \n",
      " 8   monthly_charges              4835 non-null   float64       \n",
      " 9   total_charges                4835 non-null   bool          \n",
      " 10  online_security              4835 non-null   int64         \n",
      " 11  online_backup                4835 non-null   int64         \n",
      " 12  device_protection            4835 non-null   int64         \n",
      " 13  tech_support                 4835 non-null   int64         \n",
      " 14  streaming_tv                 4835 non-null   int64         \n",
      " 15  streaming_movies             4835 non-null   int64         \n",
      " 16  multiple_lines               4835 non-null   int64         \n",
      " 17  churned                      4835 non-null   int64         \n",
      " 18  fiber_optic                  4835 non-null   int64         \n",
      " 19  contract_type_One year       4835 non-null   uint8         \n",
      " 20  contract_type_Two year       4835 non-null   uint8         \n",
      " 21  payment_method_Mailed check  4835 non-null   uint8         \n",
      " 22  payment_method_automatic     4835 non-null   uint8         \n",
      "dtypes: bool(1), datetime64[ns](2), float64(1), int64(14), object(1), uint8(4)\n",
      "memory usage: 741.3+ KB\n"
     ]
    }
   ],
   "source": [
    "df.info()"
   ]
  },
  {
   "cell_type": "code",
   "execution_count": 33,
   "metadata": {},
   "outputs": [
    {
     "data": {
      "text/html": [
       "<div>\n",
       "<style scoped>\n",
       "    .dataframe tbody tr th:only-of-type {\n",
       "        vertical-align: middle;\n",
       "    }\n",
       "\n",
       "    .dataframe tbody tr th {\n",
       "        vertical-align: top;\n",
       "    }\n",
       "\n",
       "    .dataframe thead th {\n",
       "        text-align: right;\n",
       "    }\n",
       "</style>\n",
       "<table border=\"1\" class=\"dataframe\">\n",
       "  <thead>\n",
       "    <tr style=\"text-align: right;\">\n",
       "      <th></th>\n",
       "      <th>customer_id</th>\n",
       "      <th>gender</th>\n",
       "      <th>senior</th>\n",
       "      <th>partner</th>\n",
       "      <th>dependents</th>\n",
       "      <th>start_date</th>\n",
       "      <th>end_date</th>\n",
       "      <th>paperless</th>\n",
       "      <th>monthly_charges</th>\n",
       "      <th>total_charges</th>\n",
       "      <th>...</th>\n",
       "      <th>tech_support</th>\n",
       "      <th>streaming_tv</th>\n",
       "      <th>streaming_movies</th>\n",
       "      <th>multiple_lines</th>\n",
       "      <th>churned</th>\n",
       "      <th>fiber_optic</th>\n",
       "      <th>contract_type_One year</th>\n",
       "      <th>contract_type_Two year</th>\n",
       "      <th>payment_method_Mailed check</th>\n",
       "      <th>payment_method_automatic</th>\n",
       "    </tr>\n",
       "  </thead>\n",
       "  <tbody>\n",
       "    <tr>\n",
       "      <th>0</th>\n",
       "      <td>5575-GNVDE</td>\n",
       "      <td>1</td>\n",
       "      <td>0</td>\n",
       "      <td>0</td>\n",
       "      <td>0</td>\n",
       "      <td>2017-04-01</td>\n",
       "      <td>NaT</td>\n",
       "      <td>0</td>\n",
       "      <td>56.95</td>\n",
       "      <td>False</td>\n",
       "      <td>...</td>\n",
       "      <td>0</td>\n",
       "      <td>0</td>\n",
       "      <td>0</td>\n",
       "      <td>0</td>\n",
       "      <td>0</td>\n",
       "      <td>0</td>\n",
       "      <td>1</td>\n",
       "      <td>0</td>\n",
       "      <td>1</td>\n",
       "      <td>0</td>\n",
       "    </tr>\n",
       "    <tr>\n",
       "      <th>1</th>\n",
       "      <td>3668-QPYBK</td>\n",
       "      <td>1</td>\n",
       "      <td>0</td>\n",
       "      <td>0</td>\n",
       "      <td>0</td>\n",
       "      <td>2019-10-01</td>\n",
       "      <td>2019-12-01</td>\n",
       "      <td>1</td>\n",
       "      <td>53.85</td>\n",
       "      <td>False</td>\n",
       "      <td>...</td>\n",
       "      <td>0</td>\n",
       "      <td>0</td>\n",
       "      <td>0</td>\n",
       "      <td>0</td>\n",
       "      <td>1</td>\n",
       "      <td>0</td>\n",
       "      <td>0</td>\n",
       "      <td>0</td>\n",
       "      <td>1</td>\n",
       "      <td>0</td>\n",
       "    </tr>\n",
       "    <tr>\n",
       "      <th>2</th>\n",
       "      <td>9237-HQITU</td>\n",
       "      <td>0</td>\n",
       "      <td>0</td>\n",
       "      <td>0</td>\n",
       "      <td>0</td>\n",
       "      <td>2019-09-01</td>\n",
       "      <td>2019-11-01</td>\n",
       "      <td>1</td>\n",
       "      <td>70.70</td>\n",
       "      <td>False</td>\n",
       "      <td>...</td>\n",
       "      <td>0</td>\n",
       "      <td>0</td>\n",
       "      <td>0</td>\n",
       "      <td>0</td>\n",
       "      <td>1</td>\n",
       "      <td>1</td>\n",
       "      <td>0</td>\n",
       "      <td>0</td>\n",
       "      <td>0</td>\n",
       "      <td>0</td>\n",
       "    </tr>\n",
       "    <tr>\n",
       "      <th>3</th>\n",
       "      <td>9305-CDSKC</td>\n",
       "      <td>0</td>\n",
       "      <td>0</td>\n",
       "      <td>0</td>\n",
       "      <td>0</td>\n",
       "      <td>2019-03-01</td>\n",
       "      <td>2019-11-01</td>\n",
       "      <td>1</td>\n",
       "      <td>99.65</td>\n",
       "      <td>False</td>\n",
       "      <td>...</td>\n",
       "      <td>0</td>\n",
       "      <td>1</td>\n",
       "      <td>1</td>\n",
       "      <td>1</td>\n",
       "      <td>1</td>\n",
       "      <td>1</td>\n",
       "      <td>0</td>\n",
       "      <td>0</td>\n",
       "      <td>0</td>\n",
       "      <td>0</td>\n",
       "    </tr>\n",
       "    <tr>\n",
       "      <th>4</th>\n",
       "      <td>1452-KIOVK</td>\n",
       "      <td>1</td>\n",
       "      <td>0</td>\n",
       "      <td>0</td>\n",
       "      <td>1</td>\n",
       "      <td>2018-04-01</td>\n",
       "      <td>NaT</td>\n",
       "      <td>1</td>\n",
       "      <td>89.10</td>\n",
       "      <td>False</td>\n",
       "      <td>...</td>\n",
       "      <td>0</td>\n",
       "      <td>1</td>\n",
       "      <td>0</td>\n",
       "      <td>1</td>\n",
       "      <td>0</td>\n",
       "      <td>1</td>\n",
       "      <td>0</td>\n",
       "      <td>0</td>\n",
       "      <td>0</td>\n",
       "      <td>1</td>\n",
       "    </tr>\n",
       "  </tbody>\n",
       "</table>\n",
       "<p>5 rows × 23 columns</p>\n",
       "</div>"
      ],
      "text/plain": [
       "  customer_id  gender  senior  partner  dependents start_date   end_date  \\\n",
       "0  5575-GNVDE       1       0        0           0 2017-04-01        NaT   \n",
       "1  3668-QPYBK       1       0        0           0 2019-10-01 2019-12-01   \n",
       "2  9237-HQITU       0       0        0           0 2019-09-01 2019-11-01   \n",
       "3  9305-CDSKC       0       0        0           0 2019-03-01 2019-11-01   \n",
       "4  1452-KIOVK       1       0        0           1 2018-04-01        NaT   \n",
       "\n",
       "   paperless  monthly_charges  total_charges  ...  tech_support  streaming_tv  \\\n",
       "0          0            56.95          False  ...             0             0   \n",
       "1          1            53.85          False  ...             0             0   \n",
       "2          1            70.70          False  ...             0             0   \n",
       "3          1            99.65          False  ...             0             1   \n",
       "4          1            89.10          False  ...             0             1   \n",
       "\n",
       "   streaming_movies  multiple_lines  churned  fiber_optic  \\\n",
       "0                 0               0        0            0   \n",
       "1                 0               0        1            0   \n",
       "2                 0               0        1            1   \n",
       "3                 1               1        1            1   \n",
       "4                 0               1        0            1   \n",
       "\n",
       "   contract_type_One year  contract_type_Two year  \\\n",
       "0                       1                       0   \n",
       "1                       0                       0   \n",
       "2                       0                       0   \n",
       "3                       0                       0   \n",
       "4                       0                       0   \n",
       "\n",
       "   payment_method_Mailed check  payment_method_automatic  \n",
       "0                            1                         0  \n",
       "1                            1                         0  \n",
       "2                            0                         0  \n",
       "3                            0                         0  \n",
       "4                            0                         1  \n",
       "\n",
       "[5 rows x 23 columns]"
      ]
     },
     "execution_count": 33,
     "metadata": {},
     "output_type": "execute_result"
    }
   ],
   "source": [
    "df.head()"
   ]
  },
  {
   "cell_type": "markdown",
   "metadata": {},
   "source": [
    "## Exploratory Data Analysis"
   ]
  },
  {
   "cell_type": "markdown",
   "metadata": {},
   "source": [
    "### Churned Data"
   ]
  },
  {
   "cell_type": "code",
   "execution_count": 34,
   "metadata": {},
   "outputs": [
    {
     "data": {
      "text/plain": [
       "0    3249\n",
       "1    1586\n",
       "Name: churned, dtype: int64"
      ]
     },
     "execution_count": 34,
     "metadata": {},
     "output_type": "execute_result"
    }
   ],
   "source": [
    "df['churned'].value_counts()"
   ]
  },
  {
   "cell_type": "code",
   "execution_count": 35,
   "metadata": {},
   "outputs": [
    {
     "data": {
      "image/png": "[encoded data removed]",
      "text/plain": [
       "<Figure size 400x400 with 1 Axes>"
      ]
     },
     "metadata": {},
     "output_type": "display_data"
    },
    {
     "name": "stdout",
     "output_type": "stream",
     "text": [
      "Fig 1. This figure compares the number of customers who stayed (No) against those who canceled (Yes). Approximately 3,200 customers remain active, while about 1,600 have churned. In other words, roughly two-thirds of the user base is retained and one-third has canceled their service, highlighting a significant churn rate that warrants further investigation.\n"
     ]
    }
   ],
   "source": [
    "churned_label= df['churned'].map({0: 'No', 1: 'Yes'})\n",
    "plt.figure(figsize=(4,4))\n",
    "sns.countplot(x=churned_label, data=df)\n",
    "plt.xlabel('Churned')\n",
    "plt.ylabel('Number of Customers')\n",
    "plt.title('Fig 1.Churned vs Not Churned')\n",
    "plt.show()\n",
    "\n",
    "print('Fig 1. This figure compares the number of customers who stayed (No) against those who canceled (Yes). Approximately 3,200 customers remain active, while about 1,600 have churned. In other words, roughly two-thirds of the user base is retained and one-third has canceled their service, highlighting a significant churn rate that warrants further investigation.')"
   ]
  },
  {
   "cell_type": "markdown",
   "metadata": {},
   "source": [
    "### Number of Services by Churn Status"
   ]
  },
  {
   "cell_type": "code",
   "execution_count": 36,
   "metadata": {
    "scrolled": true
   },
   "outputs": [
    {
     "data": {
      "image/png": "[encoded data removed]",
      "text/plain": [
       "<Figure size 400x400 with 1 Axes>"
      ]
     },
     "metadata": {},
     "output_type": "display_data"
    },
    {
     "name": "stdout",
     "output_type": "stream",
     "text": [
      "Fig 2. Non-churned customers have a median of 3 services (IQR: 2–4), whereas churned customers have a median of 2 services (IQR: 1–3). This suggests that customers with fewer services are more likely to cancel.\n"
     ]
    }
   ],
   "source": [
    "service_columns = ['online_backup', 'device_protection', 'tech_support', 'streaming_tv', 'streaming_movies', 'multiple_lines']\n",
    "plt.figure(figsize=(4,4))\n",
    "num_services = df[service_columns].sum(axis=1)\n",
    "churned_label = df['churned'].map({0: 'No', 1: 'Yes'})  \n",
    "plt.boxplot([num_services[df['churned'] == 0], num_services[df['churned'] == 1]], labels=['No', 'Yes'])\n",
    "plt.xlabel('Churned')\n",
    "plt.ylabel('Number of Services')\n",
    "plt.title('Fig 2. Number of Services by Churn Status')\n",
    "plt.show()\n",
    "\n",
    "print('Fig 2. Non-churned customers have a median of 3 services (IQR: 2–4), whereas churned customers have a median of 2 services (IQR: 1–3). This suggests that customers with fewer services are more likely to cancel.')"
   ]
  },
  {
   "cell_type": "markdown",
   "metadata": {},
   "source": [
    "### Monthly Charges by Churn Status"
   ]
  },
  {
   "cell_type": "code",
   "execution_count": 37,
   "metadata": {
    "scrolled": true,
    "slideshow": {
     "slide_type": ""
    },
    "tags": []
   },
   "outputs": [
    {
     "data": {
      "text/plain": [
       "<Figure size 400x400 with 0 Axes>"
      ]
     },
     "metadata": {},
     "output_type": "display_data"
    },
    {
     "data": {
      "image/png": "[encoded data removed]",
      "text/plain": [
       "<Figure size 640x480 with 1 Axes>"
      ]
     },
     "metadata": {},
     "output_type": "display_data"
    },
    {
     "name": "stdout",
     "output_type": "stream",
     "text": [
      "Fig 3. Non-churned customers have a median monthly charge of about $82 (IQR: $68–$96), while churned customers show a slightly higher median of $84 (IQR: $73–$95). This indicates that customers paying a bit more per month are marginally more prone to cancel.\n"
     ]
    }
   ],
   "source": [
    "churned_label = df['churned'].map({0: 'No', 1: 'Yes'})\n",
    "plt.figure(figsize=(4,4))\n",
    "df.boxplot(column='monthly_charges', by= churned_label)\n",
    "plt.title('Fig 3. Monthly Charges by Churn Status')\n",
    "plt.suptitle('')\n",
    "plt.grid(False)\n",
    "plt.xlabel('Churned')\n",
    "plt.ylabel('Total Charges')\n",
    "plt.show()\n",
    "\n",
    "print('Fig 3. Non-churned customers have a median monthly charge of about $82 (IQR: $68–$96), while churned customers show a slightly higher median of $84 (IQR: $73–$95). This indicates that customers paying a bit more per month are marginally more prone to cancel.')"
   ]
  },
  {
   "cell_type": "markdown",
   "metadata": {},
   "source": [
    "### Total Days Active"
   ]
  },
  {
   "cell_type": "code",
   "execution_count": 38,
   "metadata": {},
   "outputs": [],
   "source": [
    "snapshot_date = df['start_date'].max() # We will use the max value to calculate active days for not churned customers\n",
    "df['days_active'] = (df['end_date'].fillna(snapshot_date) - df['start_date']).dt.days"
   ]
  },
  {
   "cell_type": "code",
   "execution_count": 39,
   "metadata": {
    "scrolled": true
   },
   "outputs": [
    {
     "data": {
      "text/plain": [
       "count    4835.000000\n",
       "mean     1006.189659\n",
       "std       750.118471\n",
       "min         0.000000\n",
       "25%       276.000000\n",
       "50%       914.000000\n",
       "75%      1706.000000\n",
       "max      2191.000000\n",
       "Name: days_active, dtype: float64"
      ]
     },
     "execution_count": 39,
     "metadata": {},
     "output_type": "execute_result"
    }
   ],
   "source": [
    "df['days_active'].describe()"
   ]
  },
  {
   "cell_type": "code",
   "execution_count": 40,
   "metadata": {},
   "outputs": [
    {
     "data": {
      "image/png": "[encoded data removed]",
      "text/plain": [
       "<Figure size 800x500 with 1 Axes>"
      ]
     },
     "metadata": {},
     "output_type": "display_data"
    },
    {
     "name": "stdout",
     "output_type": "stream",
     "text": [
      "Fig 4. Most customer cancellations occur within the first month of service, with a significant drop-off observed during the first 6 months. This early-stage churn highlights the importance of improving onboarding, service quality, and customer engagement strategies during the initial contract period.\n",
      "After the 6-month mark, churn rates stabilize, indicating stronger retention among long-term customers.\n"
     ]
    }
   ],
   "source": [
    "ended_clients = df[df['end_date'].notna()]\n",
    "plt.figure(figsize=(8,5))\n",
    "plt.hist(ended_clients['days_active'], bins=range(0, int(df['days_active'].max()) + 30, 30), edgecolor='black')\n",
    "plt.title('Fig 4. Active Days Before Cancellation')\n",
    "plt.ylabel('Number of Clients')\n",
    "plt.xlabel('Active Days')\n",
    "\n",
    "xticks = list(range(0, int(df['days_active'].max()) + 365, 365))\n",
    "xtick_labels = [f'{x//365} yr' for x in xticks]\n",
    "plt.xticks(ticks=xticks, labels=xtick_labels)\n",
    "\n",
    "plt.show()\n",
    "\n",
    "print('''Fig 4. Most customer cancellations occur within the first month of service, with a significant drop-off observed during the first 6 months. This early-stage churn highlights the importance of improving onboarding, service quality, and customer engagement strategies during the initial contract period.\n",
    "After the 6-month mark, churn rates stabilize, indicating stronger retention among long-term customers.''')"
   ]
  },
  {
   "cell_type": "code",
   "execution_count": 41,
   "metadata": {},
   "outputs": [
    {
     "name": "stdout",
     "output_type": "stream",
     "text": [
      "end_date\n",
      "2019-10-31    401\n",
      "2019-11-30    414\n",
      "2019-12-31    392\n",
      "2020-01-31    379\n",
      "Freq: M, Name: count, dtype: int64\n"
     ]
    }
   ],
   "source": [
    "df['end_date'] = pd.to_datetime(df['end_date'], errors='coerce')\n",
    "churned = df[df['churned'] == 1].copy()\n",
    "\n",
    "churn_per_month = churned.resample('M', on='end_date').size().rename('count')\n",
    "print(churn_per_month.head())"
   ]
  },
  {
   "cell_type": "code",
   "execution_count": 42,
   "metadata": {},
   "outputs": [
    {
     "data": {
      "image/png": "[encoded data removed]",
      "text/plain": [
       "<Figure size 1000x400 with 1 Axes>"
      ]
     },
     "metadata": {},
     "output_type": "display_data"
    },
    {
     "name": "stdout",
     "output_type": "stream",
     "text": [
      "Fig 5. Churned customer counts rose from about 401 in October 2019 to a peak of 414 in December, then steadily fell to 392 in January 2020 and 379 in February. This pattern suggests a year-end spike in cancellations followed by a drop-off in the early new year.\n"
     ]
    }
   ],
   "source": [
    "plt.figure(figsize=(10,4))\n",
    "plt.plot(churn_per_month.index, churn_per_month.values, marker='o')\n",
    "plt.title('Fig 5. Monthly Churn Counts')\n",
    "plt.xlabel('Month')\n",
    "plt.ylabel('Number of Churns')\n",
    "plt.grid(True)\n",
    "plt.show()\n",
    "\n",
    "print('Fig 5. Churned customer counts rose from about 401 in October 2019 to a peak of 414 in December, then steadily fell to 392 in January 2020 and 379 in February. This pattern suggests a year-end spike in cancellations followed by a drop-off in the early new year.')"
   ]
  },
  {
   "cell_type": "markdown",
   "metadata": {},
   "source": [
    "## Model Training"
   ]
  },
  {
   "cell_type": "markdown",
   "metadata": {},
   "source": [
    "### Preparing Features and Target"
   ]
  },
  {
   "cell_type": "code",
   "execution_count": 43,
   "metadata": {},
   "outputs": [],
   "source": [
    "numeric_cols =['monthly_charges', 'total_charges', \"days_active\"]\n",
    "X = df.drop(['customer_id','start_date','end_date','churned'], axis= 1)\n",
    "y = df['churned']\n",
    "X_train, X_test, y_train, y_test = train_test_split(X, y, stratify=y, test_size=0.3, random_state=12345)"
   ]
  },
  {
   "cell_type": "markdown",
   "metadata": {},
   "source": [
    "### Defining Hyperparemeters Grids"
   ]
  },
  {
   "cell_type": "code",
   "execution_count": 44,
   "metadata": {},
   "outputs": [],
   "source": [
    "preprocessor = ColumnTransformer([('num', StandardScaler(), numeric_cols)], remainder='passthrough')\n",
    "pipelines = {\n",
    "    'Logistic Regression': Pipeline([\n",
    "        ('preprocessor', preprocessor),\n",
    "        ('clf', LogisticRegression(class_weight='balanced', random_state=1234))\n",
    "    ]),\n",
    "    'Random Forest': Pipeline([\n",
    "        ('preprocessor', preprocessor),\n",
    "        ('clf', RandomForestClassifier(class_weight='balanced', random_state=1234))\n",
    "    ]),\n",
    "    'Gradient Boosting': Pipeline([\n",
    "        ('preprocessor', preprocessor),\n",
    "        ('clf', GradientBoostingClassifier(random_state=1234))\n",
    "    ])\n",
    "}"
   ]
  },
  {
   "cell_type": "code",
   "execution_count": 45,
   "metadata": {},
   "outputs": [],
   "source": [
    "param_grids = {\n",
    "\n",
    "    'Logistic Regression': {\n",
    "        'clf__C': [0.01, 0.1, 1, 10]\n",
    "    },\n",
    "    'Random Forest': {\n",
    "        'clf__n_estimators': [100, 200],\n",
    "        'clf__max_depth': [None, 10, 20]\n",
    "    },\n",
    "    'Gradient Boosting': {\n",
    "        'clf__n_estimators': [100, 200],\n",
    "        'clf__learning_rate': [0.01, 0.1, 0.2]\n",
    "    }\n",
    "}"
   ]
  },
  {
   "cell_type": "markdown",
   "metadata": {},
   "source": [
    "### Training Data"
   ]
  },
  {
   "cell_type": "code",
   "execution_count": 46,
   "metadata": {},
   "outputs": [
    {
     "name": "stdout",
     "output_type": "stream",
     "text": [
      "-Fitting Logistic Regression\n",
      "Best params for Logistic Regression: {'clf__C': 1}\n",
      "Best cross-validated AUC for Logistic Regression: 0.818\n",
      "-Fitting Random Forest\n",
      "Best params for Random Forest: {'clf__max_depth': 10, 'clf__n_estimators': 200}\n",
      "Best cross-validated AUC for Random Forest: 0.829\n",
      "-Fitting Gradient Boosting\n",
      "Best params for Gradient Boosting: {'clf__learning_rate': 0.2, 'clf__n_estimators': 200}\n",
      "Best cross-validated AUC for Gradient Boosting: 0.894\n"
     ]
    }
   ],
   "source": [
    "grids = {}\n",
    "for name, pipe in pipelines.items():\n",
    "    grid = GridSearchCV(\n",
    "        estimator=pipe,\n",
    "        param_grid=param_grids[name],\n",
    "        cv=5,\n",
    "        scoring='roc_auc', \n",
    "        n_jobs=-1\n",
    "    )\n",
    "    grids[name] = grid\n",
    "\n",
    "for name, grid in grids.items():\n",
    "    print(f\"-Fitting {name}\")\n",
    "    grid.fit(X_train, y_train)\n",
    "    print(f\"Best params for {name}: {grid.best_params_}\")\n",
    "    print(f\"Best cross-validated AUC for {name}: {grid.best_score_:.3f}\")\n",
    "\n"
   ]
  },
  {
   "cell_type": "markdown",
   "metadata": {},
   "source": [
    "Among the three different classification models that were evaluated to predict customer churn based on historical data:\n",
    "\n",
    "-The **Gradient Boosting model** achieved the best performance, with an **AUC-ROC score of 0.894** and accuracy consistently higher than the other models.\n",
    "\n",
    "-Both Random Forest and Logistic Regression performed well, with AUC-ROC scores of 0.829 and 0.818 respectively, but did not reach the level of predictive power achieved by Gradient Boosting.\n",
    "\n",
    "The superior performance of the Gradient Boosting model indicates it is highly effective at distinguishing between customers who are likely to churn and those who are likely to stay. This model can therefore be reliably used to identify at-risk customers and enable proactive retention strategies.\n",
    "By integrating the Gradient Boosting model into the customer management process, the business can focus retention efforts more effectively and potentially reduce overall churn rates."
   ]
  },
  {
   "cell_type": "markdown",
   "metadata": {},
   "source": [
    "### Most Important Features for Gradient Boosting Modeling"
   ]
  },
  {
   "cell_type": "code",
   "execution_count": 47,
   "metadata": {},
   "outputs": [
    {
     "name": "stdout",
     "output_type": "stream",
     "text": [
      "Two most important features for Gradient Boosting:\n",
      "-days_active: 0.6420\n",
      "-monthly_charges: 0.1164\n"
     ]
    }
   ],
   "source": [
    "gb_grid = grids['Gradient Boosting']\n",
    "best_gb = gb_grid.best_estimator_\n",
    "gb_model = best_gb.named_steps['clf']\n",
    "\n",
    "def get_feature_names_from_column_transformer(column_transformer):\n",
    "    output_features = []\n",
    "    for name, trans, column, _ in column_transformer._iter(fitted=True):\n",
    "        if hasattr(trans, 'get_feature_names_out'):\n",
    "            names = trans.get_feature_names_out(column)\n",
    "        else:\n",
    "            names = column\n",
    "        output_features.extend(names)\n",
    "    return output_features\n",
    "\n",
    "feature_names = get_feature_names_from_column_transformer(best_gb.named_steps['preprocessor'])\n",
    "\n",
    "importances = gb_model.feature_importances_\n",
    "\n",
    "feat_imp = sorted(zip(feature_names, importances), key=lambda x: x[1], reverse=True)\n",
    "print(\"Two most important features for Gradient Boosting:\")\n",
    "\n",
    "for feature, importance in feat_imp[:2]:\n",
    "    print(f\"-{feature}: {importance:.4f}\")\n",
    "\n"
   ]
  },
  {
   "cell_type": "markdown",
   "metadata": {},
   "source": [
    "## Conclusions"
   ]
  },
  {
   "cell_type": "markdown",
   "metadata": {},
   "source": [
    "Our analysis identified that the most significant predictors of customer churn are the number of active days (tenure) and monthly charges. Customers with shorter tenures and higher monthly charges are more likely to leave the service. This was supported both by the exploratory data analysis, which showed a higher concentration of churners in their first months, and by the Gradient Boosting model, which achieved a strong AUC of 0.89 using these features as top predictors."
   ]
  },
  {
   "cell_type": "markdown",
   "metadata": {},
   "source": [
    "## Retention Strategies"
   ]
  },
  {
   "cell_type": "markdown",
   "metadata": {},
   "source": [
    "Based on these findings, we recommend the following actions to improve customer retention:\n",
    "\n",
    "**1. Early Engagement Initiatives:**\n",
    "Develop onboarding programs, welcome offers, or proactive support during the initial months to increase engagement and satisfaction for new customers, addressing the highest-risk period for churn.\n",
    "\n",
    "**2. Flexible Pricing or Discounts:**\n",
    "Offer targeted discounts or custom plans for customers with higher monthly charges, particularly in their first year, to reduce the risk of price-related churn.\n",
    "\n",
    "**3. Monitor and Support At-Risk Customers:**\n",
    "Implement automated monitoring to identify customers with low tenure and high charges, triggering personalized communications or offers before they decide to leave.\n",
    "\n",
    "**4. Feedback Collection:**\n",
    "Regularly survey new customers to identify pain points early and adjust services accordingly.\n",
    "\n",
    "**5.Service Quality Improvements:**\n",
    "Focus on delivering reliable service and quickly resolving issues, especially for new subscribers, since negative first impressions can drive early churn."
   ]
  }
 ],
 "metadata": {
  "kernelspec": {
   "display_name": "Python 3 (ipykernel)",
   "language": "python",
   "name": "python3"
  },
  "language_info": {
   "codemirror_mode": {
    "name": "ipython",
    "version": 3
   },
   "file_extension": ".py",
   "mimetype": "text/x-python",
   "name": "python",
   "nbconvert_exporter": "python",
   "pygments_lexer": "ipython3",
   "version": "3.9.19"
  },
  "toc": {
   "base_numbering": 1,
   "nav_menu": {},
   "number_sections": true,
   "sideBar": true,
   "skip_h1_title": true,
   "title_cell": "Table of Contents",
   "title_sidebar": "Contents",
   "toc_cell": false,
   "toc_position": {},
   "toc_section_display": true,
   "toc_window_display": false
  }
 },
 "nbformat": 4,
 "nbformat_minor": 4
}
